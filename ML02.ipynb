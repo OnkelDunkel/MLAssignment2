{
 "cells": [
  {
   "cell_type": "markdown",
   "metadata": {},
   "source": [
    "# Project 2: Pipelines and optimisations"
   ]
  },
  {
   "cell_type": "markdown",
   "metadata": {},
   "source": [
    "# Part 1: Data exploration"
   ]
  },
  {
   "cell_type": "markdown",
   "metadata": {},
   "source": [
    "# 1.1   what a frequency is:\n",
    "              In general, frequency is a measurement of how often something happens in a period of time."
   ]
  },
  {
   "cell_type": "markdown",
   "metadata": {},
   "source": [
    "# 1.2  what the median frequency means\n",
    "              "
   ]
  },
  {
   "cell_type": "markdown",
   "metadata": {},
   "source": [
    "# 1.3  what the output label is:\n",
    "             Output lavel is our prediction the voice is either male or female. We need to convert in binary format 1 or 0.  "
   ]
  },
  {
   "cell_type": "markdown",
   "metadata": {},
   "source": [
    "# Data preprocessing"
   ]
  },
  {
   "cell_type": "code",
   "execution_count": 1,
   "metadata": {},
   "outputs": [
    {
     "name": "stdout",
     "output_type": "stream",
     "text": [
      "Populating the interactive namespace from numpy and matplotlib\n"
     ]
    }
   ],
   "source": [
    "%pylab inline\n",
    "import pandas as pd"
   ]
  },
  {
   "cell_type": "code",
   "execution_count": 20,
   "metadata": {},
   "outputs": [],
   "source": [
    "#data_url = \"https://github.com/sarker24/ML_Assignment02/blob/master/voice.csv\"\n",
    "#df = pd.read_csv(data_url)\n",
    "df = pd.read_csv(r'C:\\Users\\sarke\\Desktop\\Ml_Assignment02\\voice.csv')"
   ]
  },
  {
   "cell_type": "code",
   "execution_count": 21,
   "metadata": {},
   "outputs": [
    {
     "data": {
      "text/html": [
       "<div>\n",
       "<style scoped>\n",
       "    .dataframe tbody tr th:only-of-type {\n",
       "        vertical-align: middle;\n",
       "    }\n",
       "\n",
       "    .dataframe tbody tr th {\n",
       "        vertical-align: top;\n",
       "    }\n",
       "\n",
       "    .dataframe thead th {\n",
       "        text-align: right;\n",
       "    }\n",
       "</style>\n",
       "<table border=\"1\" class=\"dataframe\">\n",
       "  <thead>\n",
       "    <tr style=\"text-align: right;\">\n",
       "      <th></th>\n",
       "      <th>meanfreq</th>\n",
       "      <th>sd</th>\n",
       "      <th>median</th>\n",
       "      <th>Q25</th>\n",
       "      <th>Q75</th>\n",
       "      <th>IQR</th>\n",
       "      <th>skew</th>\n",
       "      <th>kurt</th>\n",
       "      <th>sp.ent</th>\n",
       "      <th>sfm</th>\n",
       "      <th>...</th>\n",
       "      <th>centroid</th>\n",
       "      <th>meanfun</th>\n",
       "      <th>minfun</th>\n",
       "      <th>maxfun</th>\n",
       "      <th>meandom</th>\n",
       "      <th>mindom</th>\n",
       "      <th>maxdom</th>\n",
       "      <th>dfrange</th>\n",
       "      <th>modindx</th>\n",
       "      <th>label</th>\n",
       "    </tr>\n",
       "  </thead>\n",
       "  <tbody>\n",
       "    <tr>\n",
       "      <th>1071</th>\n",
       "      <td>0.196788</td>\n",
       "      <td>0.060888</td>\n",
       "      <td>0.214694</td>\n",
       "      <td>0.135102</td>\n",
       "      <td>0.250612</td>\n",
       "      <td>0.115510</td>\n",
       "      <td>1.146103</td>\n",
       "      <td>3.468774</td>\n",
       "      <td>0.912933</td>\n",
       "      <td>0.387203</td>\n",
       "      <td>...</td>\n",
       "      <td>0.196788</td>\n",
       "      <td>0.133846</td>\n",
       "      <td>0.047013</td>\n",
       "      <td>0.275862</td>\n",
       "      <td>1.443954</td>\n",
       "      <td>0.023438</td>\n",
       "      <td>6.093750</td>\n",
       "      <td>6.070312</td>\n",
       "      <td>0.158301</td>\n",
       "      <td>male</td>\n",
       "    </tr>\n",
       "    <tr>\n",
       "      <th>901</th>\n",
       "      <td>0.189990</td>\n",
       "      <td>0.066268</td>\n",
       "      <td>0.180354</td>\n",
       "      <td>0.134815</td>\n",
       "      <td>0.256103</td>\n",
       "      <td>0.121288</td>\n",
       "      <td>2.297650</td>\n",
       "      <td>8.986553</td>\n",
       "      <td>0.895766</td>\n",
       "      <td>0.413779</td>\n",
       "      <td>...</td>\n",
       "      <td>0.189990</td>\n",
       "      <td>0.136140</td>\n",
       "      <td>0.046967</td>\n",
       "      <td>0.275862</td>\n",
       "      <td>0.619792</td>\n",
       "      <td>0.023438</td>\n",
       "      <td>5.484375</td>\n",
       "      <td>5.460938</td>\n",
       "      <td>0.052863</td>\n",
       "      <td>male</td>\n",
       "    </tr>\n",
       "    <tr>\n",
       "      <th>3155</th>\n",
       "      <td>0.178573</td>\n",
       "      <td>0.046679</td>\n",
       "      <td>0.164388</td>\n",
       "      <td>0.149309</td>\n",
       "      <td>0.204601</td>\n",
       "      <td>0.055293</td>\n",
       "      <td>3.066668</td>\n",
       "      <td>15.684088</td>\n",
       "      <td>0.891448</td>\n",
       "      <td>0.321169</td>\n",
       "      <td>...</td>\n",
       "      <td>0.178573</td>\n",
       "      <td>0.155380</td>\n",
       "      <td>0.025478</td>\n",
       "      <td>0.253968</td>\n",
       "      <td>0.637921</td>\n",
       "      <td>0.148438</td>\n",
       "      <td>6.148438</td>\n",
       "      <td>6.000000</td>\n",
       "      <td>0.101291</td>\n",
       "      <td>female</td>\n",
       "    </tr>\n",
       "    <tr>\n",
       "      <th>30</th>\n",
       "      <td>0.153039</td>\n",
       "      <td>0.074031</td>\n",
       "      <td>0.158065</td>\n",
       "      <td>0.092731</td>\n",
       "      <td>0.214366</td>\n",
       "      <td>0.121634</td>\n",
       "      <td>0.885702</td>\n",
       "      <td>3.523982</td>\n",
       "      <td>0.973218</td>\n",
       "      <td>0.807552</td>\n",
       "      <td>...</td>\n",
       "      <td>0.153039</td>\n",
       "      <td>0.067407</td>\n",
       "      <td>0.016260</td>\n",
       "      <td>0.205128</td>\n",
       "      <td>0.261562</td>\n",
       "      <td>0.007812</td>\n",
       "      <td>1.023438</td>\n",
       "      <td>1.015625</td>\n",
       "      <td>0.191346</td>\n",
       "      <td>male</td>\n",
       "    </tr>\n",
       "    <tr>\n",
       "      <th>2674</th>\n",
       "      <td>0.207360</td>\n",
       "      <td>0.034840</td>\n",
       "      <td>0.216804</td>\n",
       "      <td>0.186359</td>\n",
       "      <td>0.230643</td>\n",
       "      <td>0.044283</td>\n",
       "      <td>1.994092</td>\n",
       "      <td>6.604918</td>\n",
       "      <td>0.857098</td>\n",
       "      <td>0.211331</td>\n",
       "      <td>...</td>\n",
       "      <td>0.207360</td>\n",
       "      <td>0.147177</td>\n",
       "      <td>0.047105</td>\n",
       "      <td>0.251309</td>\n",
       "      <td>1.914789</td>\n",
       "      <td>0.023438</td>\n",
       "      <td>8.062500</td>\n",
       "      <td>8.039062</td>\n",
       "      <td>0.180102</td>\n",
       "      <td>female</td>\n",
       "    </tr>\n",
       "  </tbody>\n",
       "</table>\n",
       "<p>5 rows × 21 columns</p>\n",
       "</div>"
      ],
      "text/plain": [
       "      meanfreq        sd    median       Q25       Q75       IQR      skew  \\\n",
       "1071  0.196788  0.060888  0.214694  0.135102  0.250612  0.115510  1.146103   \n",
       "901   0.189990  0.066268  0.180354  0.134815  0.256103  0.121288  2.297650   \n",
       "3155  0.178573  0.046679  0.164388  0.149309  0.204601  0.055293  3.066668   \n",
       "30    0.153039  0.074031  0.158065  0.092731  0.214366  0.121634  0.885702   \n",
       "2674  0.207360  0.034840  0.216804  0.186359  0.230643  0.044283  1.994092   \n",
       "\n",
       "           kurt    sp.ent       sfm   ...    centroid   meanfun    minfun  \\\n",
       "1071   3.468774  0.912933  0.387203   ...    0.196788  0.133846  0.047013   \n",
       "901    8.986553  0.895766  0.413779   ...    0.189990  0.136140  0.046967   \n",
       "3155  15.684088  0.891448  0.321169   ...    0.178573  0.155380  0.025478   \n",
       "30     3.523982  0.973218  0.807552   ...    0.153039  0.067407  0.016260   \n",
       "2674   6.604918  0.857098  0.211331   ...    0.207360  0.147177  0.047105   \n",
       "\n",
       "        maxfun   meandom    mindom    maxdom   dfrange   modindx   label  \n",
       "1071  0.275862  1.443954  0.023438  6.093750  6.070312  0.158301    male  \n",
       "901   0.275862  0.619792  0.023438  5.484375  5.460938  0.052863    male  \n",
       "3155  0.253968  0.637921  0.148438  6.148438  6.000000  0.101291  female  \n",
       "30    0.205128  0.261562  0.007812  1.023438  1.015625  0.191346    male  \n",
       "2674  0.251309  1.914789  0.023438  8.062500  8.039062  0.180102  female  \n",
       "\n",
       "[5 rows x 21 columns]"
      ]
     },
     "execution_count": 21,
     "metadata": {},
     "output_type": "execute_result"
    }
   ],
   "source": [
    "df.sample(5)"
   ]
  },
  {
   "cell_type": "code",
   "execution_count": 23,
   "metadata": {},
   "outputs": [
    {
     "name": "stdout",
     "output_type": "stream",
     "text": [
      "<class 'pandas.core.frame.DataFrame'>\n",
      "RangeIndex: 3168 entries, 0 to 3167\n",
      "Data columns (total 21 columns):\n",
      "meanfreq    3168 non-null float64\n",
      "sd          3168 non-null float64\n",
      "median      3168 non-null float64\n",
      "Q25         3168 non-null float64\n",
      "Q75         3168 non-null float64\n",
      "IQR         3168 non-null float64\n",
      "skew        3168 non-null float64\n",
      "kurt        3168 non-null float64\n",
      "sp.ent      3168 non-null float64\n",
      "sfm         3168 non-null float64\n",
      "mode        3168 non-null float64\n",
      "centroid    3168 non-null float64\n",
      "meanfun     3168 non-null float64\n",
      "minfun      3168 non-null float64\n",
      "maxfun      3168 non-null float64\n",
      "meandom     3168 non-null float64\n",
      "mindom      3168 non-null float64\n",
      "maxdom      3168 non-null float64\n",
      "dfrange     3168 non-null float64\n",
      "modindx     3168 non-null float64\n",
      "label       3168 non-null object\n",
      "dtypes: float64(20), object(1)\n",
      "memory usage: 519.8+ KB\n"
     ]
    }
   ],
   "source": [
    "df.info()\n"
   ]
  },
  {
   "cell_type": "code",
   "execution_count": 26,
   "metadata": {},
   "outputs": [
    {
     "data": {
      "text/plain": [
       "meanfreq    False\n",
       "sd          False\n",
       "median      False\n",
       "Q25         False\n",
       "Q75         False\n",
       "IQR         False\n",
       "skew        False\n",
       "kurt        False\n",
       "sp.ent      False\n",
       "sfm         False\n",
       "mode        False\n",
       "centroid    False\n",
       "meanfun     False\n",
       "minfun      False\n",
       "maxfun      False\n",
       "meandom     False\n",
       "mindom      False\n",
       "maxdom      False\n",
       "dfrange     False\n",
       "modindx     False\n",
       "label       False\n",
       "dtype: bool"
      ]
     },
     "execution_count": 26,
     "metadata": {},
     "output_type": "execute_result"
    }
   ],
   "source": [
    "df.isnull().any()"
   ]
  },
  {
   "cell_type": "code",
   "execution_count": 30,
   "metadata": {},
   "outputs": [
    {
     "data": {
      "text/plain": [
       "male      1584\n",
       "female    1584\n",
       "Name: label, dtype: int64"
      ]
     },
     "execution_count": 30,
     "metadata": {},
     "output_type": "execute_result"
    }
   ],
   "source": [
    "df.label.value_counts()\n",
    "\n"
   ]
  },
  {
   "cell_type": "code",
   "execution_count": 33,
   "metadata": {},
   "outputs": [
    {
     "name": "stderr",
     "output_type": "stream",
     "text": [
      "C:\\Users\\sarke\\Anaconda3\\lib\\site-packages\\ipykernel_launcher.py:1: FutureWarning: elementwise comparison failed; returning scalar instead, but in the future will perform elementwise comparison\n",
      "  \"\"\"Entry point for launching an IPython kernel.\n"
     ]
    },
    {
     "data": {
      "text/plain": [
       "0    3168\n",
       "Name: label, dtype: int64"
      ]
     },
     "execution_count": 33,
     "metadata": {},
     "output_type": "execute_result"
    }
   ],
   "source": [
    "df.label = np.where(df.label.values == 'female', 1, 0)\n",
    "df.label.value_counts()"
   ]
  },
  {
   "cell_type": "code",
   "execution_count": 38,
   "metadata": {},
   "outputs": [],
   "source": [
    "X = df.drop('label', axis = 1)\n",
    "Y = df.label"
   ]
  },
  {
   "cell_type": "code",
   "execution_count": 39,
   "metadata": {},
   "outputs": [
    {
     "data": {
      "text/plain": [
       "(3168, 20)"
      ]
     },
     "execution_count": 39,
     "metadata": {},
     "output_type": "execute_result"
    }
   ],
   "source": [
    "X.shape"
   ]
  },
  {
   "cell_type": "code",
   "execution_count": 40,
   "metadata": {},
   "outputs": [
    {
     "data": {
      "text/plain": [
       "(3168,)"
      ]
     },
     "execution_count": 40,
     "metadata": {},
     "output_type": "execute_result"
    }
   ],
   "source": [
    "Y.shape"
   ]
  },
  {
   "cell_type": "code",
   "execution_count": null,
   "metadata": {},
   "outputs": [],
   "source": []
  }
 ],
 "metadata": {
  "kernelspec": {
   "display_name": "Python 3",
   "language": "python",
   "name": "python3"
  },
  "language_info": {
   "codemirror_mode": {
    "name": "ipython",
    "version": 3
   },
   "file_extension": ".py",
   "mimetype": "text/x-python",
   "name": "python",
   "nbconvert_exporter": "python",
   "pygments_lexer": "ipython3",
   "version": "3.7.1"
  }
 },
 "nbformat": 4,
 "nbformat_minor": 2
}
